{
 "cells": [
  {
   "cell_type": "code",
   "execution_count": 1,
   "id": "54101fed",
   "metadata": {
    "_cell_guid": "b1076dfc-b9ad-4769-8c92-a6c4dae69d19",
    "_uuid": "8f2839f25d086af736a60e9eeb907d3b93b6e0e5",
    "execution": {
     "iopub.execute_input": "2022-08-21T14:59:59.170589Z",
     "iopub.status.busy": "2022-08-21T14:59:59.170081Z",
     "iopub.status.idle": "2022-08-21T14:59:59.191359Z",
     "shell.execute_reply": "2022-08-21T14:59:59.190497Z"
    },
    "papermill": {
     "duration": 0.033007,
     "end_time": "2022-08-21T14:59:59.195132",
     "exception": false,
     "start_time": "2022-08-21T14:59:59.162125",
     "status": "completed"
    },
    "tags": []
   },
   "outputs": [
    {
     "name": "stdout",
     "output_type": "stream",
     "text": [
      "/kaggle/input/tuik-education-dataset-turkey/TUIK_Education_Dataset.csv\n",
      "/kaggle/input/tuik-education-dataset-turkey/TUIK_Education_Dataset.xlsx\n"
     ]
    }
   ],
   "source": [
    "# This Python 3 environment comes with many helpful analytics libraries installed\n",
    "# It is defined by the kaggle/python Docker image: https://github.com/kaggle/docker-python\n",
    "# For example, here's several helpful packages to load\n",
    "\n",
    "import numpy as np # linear algebra\n",
    "import pandas as pd # data processing, CSV file I/O (e.g. pd.read_csv)\n",
    "\n",
    "# Input data files are available in the read-only \"../input/\" directory\n",
    "# For example, running this (by clicking run or pressing Shift+Enter) will list all files under the input directory\n",
    "\n",
    "import os\n",
    "for dirname, _, filenames in os.walk('/kaggle/input'):\n",
    "    for filename in filenames:\n",
    "        print(os.path.join(dirname, filename))\n",
    "\n",
    "# You can write up to 20GB to the current directory (/kaggle/working/) that gets preserved as output when you create a version using \"Save & Run All\" \n",
    "# You can also write temporary files to /kaggle/temp/, but they won't be saved outside of the current session"
   ]
  },
  {
   "cell_type": "markdown",
   "id": "b6b453e8",
   "metadata": {
    "papermill": {
     "duration": 0.005577,
     "end_time": "2022-08-21T14:59:59.207312",
     "exception": false,
     "start_time": "2022-08-21T14:59:59.201735",
     "status": "completed"
    },
    "tags": []
   },
   "source": [
    "# Import Libraries"
   ]
  },
  {
   "cell_type": "code",
   "execution_count": 2,
   "id": "4974534d",
   "metadata": {
    "execution": {
     "iopub.execute_input": "2022-08-21T14:59:59.218987Z",
     "iopub.status.busy": "2022-08-21T14:59:59.218429Z",
     "iopub.status.idle": "2022-08-21T15:00:00.320472Z",
     "shell.execute_reply": "2022-08-21T15:00:00.319191Z"
    },
    "papermill": {
     "duration": 1.111152,
     "end_time": "2022-08-21T15:00:00.323421",
     "exception": false,
     "start_time": "2022-08-21T14:59:59.212269",
     "status": "completed"
    },
    "tags": []
   },
   "outputs": [],
   "source": [
    "import pandas as pd\n",
    "import numpy as np\n",
    "import matplotlib.pyplot as plt\n",
    "import seaborn as sns\n",
    "%matplotlib inline"
   ]
  },
  {
   "cell_type": "code",
   "execution_count": 3,
   "id": "3d8da83b",
   "metadata": {
    "execution": {
     "iopub.execute_input": "2022-08-21T15:00:00.333250Z",
     "iopub.status.busy": "2022-08-21T15:00:00.332528Z",
     "iopub.status.idle": "2022-08-21T15:00:00.347932Z",
     "shell.execute_reply": "2022-08-21T15:00:00.346941Z"
    },
    "papermill": {
     "duration": 0.023138,
     "end_time": "2022-08-21T15:00:00.350607",
     "exception": false,
     "start_time": "2022-08-21T15:00:00.327469",
     "status": "completed"
    },
    "tags": []
   },
   "outputs": [],
   "source": [
    "train = pd.read_csv('../input/tuik-education-dataset-turkey/TUIK_Education_Dataset.csv')"
   ]
  },
  {
   "cell_type": "code",
   "execution_count": 4,
   "id": "28a420b5",
   "metadata": {
    "execution": {
     "iopub.execute_input": "2022-08-21T15:00:00.359663Z",
     "iopub.status.busy": "2022-08-21T15:00:00.359320Z",
     "iopub.status.idle": "2022-08-21T15:00:00.382720Z",
     "shell.execute_reply": "2022-08-21T15:00:00.381546Z"
    },
    "papermill": {
     "duration": 0.030631,
     "end_time": "2022-08-21T15:00:00.385215",
     "exception": false,
     "start_time": "2022-08-21T15:00:00.354584",
     "status": "completed"
    },
    "tags": []
   },
   "outputs": [
    {
     "data": {
      "text/html": [
       "<div>\n",
       "<style scoped>\n",
       "    .dataframe tbody tr th:only-of-type {\n",
       "        vertical-align: middle;\n",
       "    }\n",
       "\n",
       "    .dataframe tbody tr th {\n",
       "        vertical-align: top;\n",
       "    }\n",
       "\n",
       "    .dataframe thead th {\n",
       "        text-align: right;\n",
       "    }\n",
       "</style>\n",
       "<table border=\"1\" class=\"dataframe\">\n",
       "  <thead>\n",
       "    <tr style=\"text-align: right;\">\n",
       "      <th></th>\n",
       "      <th>Year</th>\n",
       "      <th>Education</th>\n",
       "      <th>Sex</th>\n",
       "      <th>Yearly Median Salary (TRY)</th>\n",
       "      <th>Yearly Median Salary (USD)</th>\n",
       "      <th>Primary School Degree (Age 25 and older) (%)</th>\n",
       "      <th>High School Degree (Age 25 and older) (%)</th>\n",
       "      <th>College Degree and Higher (Age 25 and older) (%)</th>\n",
       "      <th>Population</th>\n",
       "      <th>Median USD/TRY Exchange Rate</th>\n",
       "    </tr>\n",
       "  </thead>\n",
       "  <tbody>\n",
       "    <tr>\n",
       "      <th>0</th>\n",
       "      <td>2008</td>\n",
       "      <td>High School</td>\n",
       "      <td>Female</td>\n",
       "      <td>9219.22</td>\n",
       "      <td>7146.682171</td>\n",
       "      <td>NaN</td>\n",
       "      <td>20.687504</td>\n",
       "      <td>NaN</td>\n",
       "      <td>4221131</td>\n",
       "      <td>1.29</td>\n",
       "    </tr>\n",
       "    <tr>\n",
       "      <th>1</th>\n",
       "      <td>2009</td>\n",
       "      <td>High School</td>\n",
       "      <td>Female</td>\n",
       "      <td>9472.15</td>\n",
       "      <td>6111.064516</td>\n",
       "      <td>NaN</td>\n",
       "      <td>21.716939</td>\n",
       "      <td>NaN</td>\n",
       "      <td>4376543</td>\n",
       "      <td>1.55</td>\n",
       "    </tr>\n",
       "    <tr>\n",
       "      <th>2</th>\n",
       "      <td>2010</td>\n",
       "      <td>High School</td>\n",
       "      <td>Female</td>\n",
       "      <td>9954.64</td>\n",
       "      <td>6636.426667</td>\n",
       "      <td>NaN</td>\n",
       "      <td>23.582761</td>\n",
       "      <td>NaN</td>\n",
       "      <td>4818017</td>\n",
       "      <td>1.50</td>\n",
       "    </tr>\n",
       "    <tr>\n",
       "      <th>3</th>\n",
       "      <td>2011</td>\n",
       "      <td>High School</td>\n",
       "      <td>Female</td>\n",
       "      <td>10492.21</td>\n",
       "      <td>6282.760479</td>\n",
       "      <td>NaN</td>\n",
       "      <td>25.127989</td>\n",
       "      <td>NaN</td>\n",
       "      <td>5024315</td>\n",
       "      <td>1.67</td>\n",
       "    </tr>\n",
       "    <tr>\n",
       "      <th>4</th>\n",
       "      <td>2012</td>\n",
       "      <td>High School</td>\n",
       "      <td>Female</td>\n",
       "      <td>11760.08</td>\n",
       "      <td>6569.877095</td>\n",
       "      <td>NaN</td>\n",
       "      <td>26.106466</td>\n",
       "      <td>NaN</td>\n",
       "      <td>5145135</td>\n",
       "      <td>1.79</td>\n",
       "    </tr>\n",
       "  </tbody>\n",
       "</table>\n",
       "</div>"
      ],
      "text/plain": [
       "   Year    Education     Sex  Yearly Median Salary (TRY)  \\\n",
       "0  2008  High School  Female                     9219.22   \n",
       "1  2009  High School  Female                     9472.15   \n",
       "2  2010  High School  Female                     9954.64   \n",
       "3  2011  High School  Female                    10492.21   \n",
       "4  2012  High School  Female                    11760.08   \n",
       "\n",
       "   Yearly Median Salary (USD)  Primary School Degree (Age 25 and older) (%)  \\\n",
       "0                 7146.682171                                           NaN   \n",
       "1                 6111.064516                                           NaN   \n",
       "2                 6636.426667                                           NaN   \n",
       "3                 6282.760479                                           NaN   \n",
       "4                 6569.877095                                           NaN   \n",
       "\n",
       "   High School Degree (Age 25 and older) (%)  \\\n",
       "0                                  20.687504   \n",
       "1                                  21.716939   \n",
       "2                                  23.582761   \n",
       "3                                  25.127989   \n",
       "4                                  26.106466   \n",
       "\n",
       "   College Degree and Higher (Age 25 and older) (%)  Population  \\\n",
       "0                                               NaN     4221131   \n",
       "1                                               NaN     4376543   \n",
       "2                                               NaN     4818017   \n",
       "3                                               NaN     5024315   \n",
       "4                                               NaN     5145135   \n",
       "\n",
       "   Median USD/TRY Exchange Rate  \n",
       "0                          1.29  \n",
       "1                          1.55  \n",
       "2                          1.50  \n",
       "3                          1.67  \n",
       "4                          1.79  "
      ]
     },
     "execution_count": 4,
     "metadata": {},
     "output_type": "execute_result"
    }
   ],
   "source": [
    "train.head()"
   ]
  },
  {
   "cell_type": "code",
   "execution_count": 5,
   "id": "01fd91dc",
   "metadata": {
    "execution": {
     "iopub.execute_input": "2022-08-21T15:00:00.395357Z",
     "iopub.status.busy": "2022-08-21T15:00:00.394971Z",
     "iopub.status.idle": "2022-08-21T15:00:00.418962Z",
     "shell.execute_reply": "2022-08-21T15:00:00.417627Z"
    },
    "papermill": {
     "duration": 0.031728,
     "end_time": "2022-08-21T15:00:00.421374",
     "exception": false,
     "start_time": "2022-08-21T15:00:00.389646",
     "status": "completed"
    },
    "tags": []
   },
   "outputs": [
    {
     "name": "stdout",
     "output_type": "stream",
     "text": [
      "<class 'pandas.core.frame.DataFrame'>\n",
      "RangeIndex: 140 entries, 0 to 139\n",
      "Data columns (total 10 columns):\n",
      " #   Column                                            Non-Null Count  Dtype  \n",
      "---  ------                                            --------------  -----  \n",
      " 0   Year                                              140 non-null    int64  \n",
      " 1   Education                                         140 non-null    object \n",
      " 2   Sex                                               140 non-null    object \n",
      " 3   Yearly Median Salary (TRY)                        140 non-null    float64\n",
      " 4   Yearly Median Salary (USD)                        140 non-null    float64\n",
      " 5   Primary School Degree (Age 25 and older) (%)      28 non-null     float64\n",
      " 6   High School Degree (Age 25 and older) (%)         28 non-null     float64\n",
      " 7   College Degree and Higher (Age 25 and older) (%)  28 non-null     float64\n",
      " 8   Population                                        140 non-null    int64  \n",
      " 9   Median USD/TRY Exchange Rate                      140 non-null    float64\n",
      "dtypes: float64(6), int64(2), object(2)\n",
      "memory usage: 11.1+ KB\n"
     ]
    }
   ],
   "source": [
    "train.info()"
   ]
  },
  {
   "cell_type": "code",
   "execution_count": 6,
   "id": "e9717785",
   "metadata": {
    "execution": {
     "iopub.execute_input": "2022-08-21T15:00:00.432164Z",
     "iopub.status.busy": "2022-08-21T15:00:00.431370Z",
     "iopub.status.idle": "2022-08-21T15:00:00.467603Z",
     "shell.execute_reply": "2022-08-21T15:00:00.466773Z"
    },
    "papermill": {
     "duration": 0.04382,
     "end_time": "2022-08-21T15:00:00.469697",
     "exception": false,
     "start_time": "2022-08-21T15:00:00.425877",
     "status": "completed"
    },
    "tags": []
   },
   "outputs": [
    {
     "data": {
      "text/html": [
       "<div>\n",
       "<style scoped>\n",
       "    .dataframe tbody tr th:only-of-type {\n",
       "        vertical-align: middle;\n",
       "    }\n",
       "\n",
       "    .dataframe tbody tr th {\n",
       "        vertical-align: top;\n",
       "    }\n",
       "\n",
       "    .dataframe thead th {\n",
       "        text-align: right;\n",
       "    }\n",
       "</style>\n",
       "<table border=\"1\" class=\"dataframe\">\n",
       "  <thead>\n",
       "    <tr style=\"text-align: right;\">\n",
       "      <th></th>\n",
       "      <th>Year</th>\n",
       "      <th>Yearly Median Salary (TRY)</th>\n",
       "      <th>Yearly Median Salary (USD)</th>\n",
       "      <th>Primary School Degree (Age 25 and older) (%)</th>\n",
       "      <th>High School Degree (Age 25 and older) (%)</th>\n",
       "      <th>College Degree and Higher (Age 25 and older) (%)</th>\n",
       "      <th>Population</th>\n",
       "      <th>Median USD/TRY Exchange Rate</th>\n",
       "    </tr>\n",
       "  </thead>\n",
       "  <tbody>\n",
       "    <tr>\n",
       "      <th>count</th>\n",
       "      <td>140.000000</td>\n",
       "      <td>140.000000</td>\n",
       "      <td>140.000000</td>\n",
       "      <td>28.000000</td>\n",
       "      <td>28.000000</td>\n",
       "      <td>28.000000</td>\n",
       "      <td>1.400000e+02</td>\n",
       "      <td>140.000000</td>\n",
       "    </tr>\n",
       "    <tr>\n",
       "      <th>mean</th>\n",
       "      <td>2014.500000</td>\n",
       "      <td>18856.860429</td>\n",
       "      <td>6174.968777</td>\n",
       "      <td>87.861064</td>\n",
       "      <td>36.035355</td>\n",
       "      <td>13.933626</td>\n",
       "      <td>5.175278e+06</td>\n",
       "      <td>3.405714</td>\n",
       "    </tr>\n",
       "    <tr>\n",
       "      <th>std</th>\n",
       "      <td>4.045603</td>\n",
       "      <td>13962.266328</td>\n",
       "      <td>3834.961112</td>\n",
       "      <td>7.337489</td>\n",
       "      <td>8.736122</td>\n",
       "      <td>4.277388</td>\n",
       "      <td>2.826870e+06</td>\n",
       "      <td>2.275704</td>\n",
       "    </tr>\n",
       "    <tr>\n",
       "      <th>min</th>\n",
       "      <td>2008.000000</td>\n",
       "      <td>2657.000000</td>\n",
       "      <td>1714.193548</td>\n",
       "      <td>72.638327</td>\n",
       "      <td>20.687504</td>\n",
       "      <td>7.616578</td>\n",
       "      <td>2.625010e+05</td>\n",
       "      <td>1.290000</td>\n",
       "    </tr>\n",
       "    <tr>\n",
       "      <th>25%</th>\n",
       "      <td>2011.000000</td>\n",
       "      <td>9046.415000</td>\n",
       "      <td>3225.037336</td>\n",
       "      <td>81.869615</td>\n",
       "      <td>29.970376</td>\n",
       "      <td>10.126340</td>\n",
       "      <td>3.178508e+06</td>\n",
       "      <td>1.670000</td>\n",
       "    </tr>\n",
       "    <tr>\n",
       "      <th>50%</th>\n",
       "      <td>2014.500000</td>\n",
       "      <td>14788.325000</td>\n",
       "      <td>4720.627686</td>\n",
       "      <td>88.516006</td>\n",
       "      <td>36.260145</td>\n",
       "      <td>13.973636</td>\n",
       "      <td>5.108085e+06</td>\n",
       "      <td>2.455000</td>\n",
       "    </tr>\n",
       "    <tr>\n",
       "      <th>75%</th>\n",
       "      <td>2018.000000</td>\n",
       "      <td>24942.007500</td>\n",
       "      <td>7556.839532</td>\n",
       "      <td>94.423725</td>\n",
       "      <td>42.521095</td>\n",
       "      <td>17.531813</td>\n",
       "      <td>7.253647e+06</td>\n",
       "      <td>4.810000</td>\n",
       "    </tr>\n",
       "    <tr>\n",
       "      <th>max</th>\n",
       "      <td>2021.000000</td>\n",
       "      <td>75359.660000</td>\n",
       "      <td>17699.726320</td>\n",
       "      <td>97.096434</td>\n",
       "      <td>51.865029</td>\n",
       "      <td>20.872866</td>\n",
       "      <td>1.093387e+07</td>\n",
       "      <td>8.910000</td>\n",
       "    </tr>\n",
       "  </tbody>\n",
       "</table>\n",
       "</div>"
      ],
      "text/plain": [
       "              Year  Yearly Median Salary (TRY)  Yearly Median Salary (USD)  \\\n",
       "count   140.000000                  140.000000                  140.000000   \n",
       "mean   2014.500000                18856.860429                 6174.968777   \n",
       "std       4.045603                13962.266328                 3834.961112   \n",
       "min    2008.000000                 2657.000000                 1714.193548   \n",
       "25%    2011.000000                 9046.415000                 3225.037336   \n",
       "50%    2014.500000                14788.325000                 4720.627686   \n",
       "75%    2018.000000                24942.007500                 7556.839532   \n",
       "max    2021.000000                75359.660000                17699.726320   \n",
       "\n",
       "       Primary School Degree (Age 25 and older) (%)  \\\n",
       "count                                     28.000000   \n",
       "mean                                      87.861064   \n",
       "std                                        7.337489   \n",
       "min                                       72.638327   \n",
       "25%                                       81.869615   \n",
       "50%                                       88.516006   \n",
       "75%                                       94.423725   \n",
       "max                                       97.096434   \n",
       "\n",
       "       High School Degree (Age 25 and older) (%)  \\\n",
       "count                                  28.000000   \n",
       "mean                                   36.035355   \n",
       "std                                     8.736122   \n",
       "min                                    20.687504   \n",
       "25%                                    29.970376   \n",
       "50%                                    36.260145   \n",
       "75%                                    42.521095   \n",
       "max                                    51.865029   \n",
       "\n",
       "       College Degree and Higher (Age 25 and older) (%)    Population  \\\n",
       "count                                         28.000000  1.400000e+02   \n",
       "mean                                          13.933626  5.175278e+06   \n",
       "std                                            4.277388  2.826870e+06   \n",
       "min                                            7.616578  2.625010e+05   \n",
       "25%                                           10.126340  3.178508e+06   \n",
       "50%                                           13.973636  5.108085e+06   \n",
       "75%                                           17.531813  7.253647e+06   \n",
       "max                                           20.872866  1.093387e+07   \n",
       "\n",
       "       Median USD/TRY Exchange Rate  \n",
       "count                    140.000000  \n",
       "mean                       3.405714  \n",
       "std                        2.275704  \n",
       "min                        1.290000  \n",
       "25%                        1.670000  \n",
       "50%                        2.455000  \n",
       "75%                        4.810000  \n",
       "max                        8.910000  "
      ]
     },
     "execution_count": 6,
     "metadata": {},
     "output_type": "execute_result"
    }
   ],
   "source": [
    "train.describe()"
   ]
  },
  {
   "cell_type": "code",
   "execution_count": 7,
   "id": "c25fd583",
   "metadata": {
    "execution": {
     "iopub.execute_input": "2022-08-21T15:00:00.480896Z",
     "iopub.status.busy": "2022-08-21T15:00:00.480490Z",
     "iopub.status.idle": "2022-08-21T15:00:00.487347Z",
     "shell.execute_reply": "2022-08-21T15:00:00.486221Z"
    },
    "papermill": {
     "duration": 0.015094,
     "end_time": "2022-08-21T15:00:00.489565",
     "exception": false,
     "start_time": "2022-08-21T15:00:00.474471",
     "status": "completed"
    },
    "tags": []
   },
   "outputs": [
    {
     "data": {
      "text/plain": [
       "Index(['Year', 'Education', 'Sex', 'Yearly Median Salary (TRY)',\n",
       "       'Yearly Median Salary (USD)',\n",
       "       'Primary School Degree (Age 25 and older) (%)',\n",
       "       'High School Degree (Age 25 and older) (%)',\n",
       "       'College Degree and Higher (Age 25 and older) (%)', 'Population',\n",
       "       'Median USD/TRY Exchange Rate'],\n",
       "      dtype='object')"
      ]
     },
     "execution_count": 7,
     "metadata": {},
     "output_type": "execute_result"
    }
   ],
   "source": [
    "train.columns"
   ]
  },
  {
   "cell_type": "markdown",
   "id": "09911fda",
   "metadata": {
    "papermill": {
     "duration": 0.004459,
     "end_time": "2022-08-21T15:00:00.498860",
     "exception": false,
     "start_time": "2022-08-21T15:00:00.494401",
     "status": "completed"
    },
    "tags": []
   },
   "source": [
    "## Missing Data\n",
    "\n",
    "We can use seaborn to create a simple heatmap to see where we are missing data"
   ]
  },
  {
   "cell_type": "code",
   "execution_count": 8,
   "id": "730d3a52",
   "metadata": {
    "execution": {
     "iopub.execute_input": "2022-08-21T15:00:00.510641Z",
     "iopub.status.busy": "2022-08-21T15:00:00.509943Z",
     "iopub.status.idle": "2022-08-21T15:00:00.769685Z",
     "shell.execute_reply": "2022-08-21T15:00:00.768258Z"
    },
    "papermill": {
     "duration": 0.270253,
     "end_time": "2022-08-21T15:00:00.774019",
     "exception": false,
     "start_time": "2022-08-21T15:00:00.503766",
     "status": "completed"
    },
    "tags": []
   },
   "outputs": [
    {
     "data": {
      "text/plain": [
       "<AxesSubplot:>"
      ]
     },
     "execution_count": 8,
     "metadata": {},
     "output_type": "execute_result"
    },
    {
     "data": {
      "image/png": "[encoded data removed]",
      "text/plain": [
       "<Figure size 432x288 with 1 Axes>"
      ]
     },
     "metadata": {
      "needs_background": "light"
     },
     "output_type": "display_data"
    }
   ],
   "source": [
    "sns.heatmap(train.isnull(),yticklabels=False,cbar=False,cmap='viridis')"
   ]
  },
  {
   "cell_type": "markdown",
   "id": "4f5cc456",
   "metadata": {
    "papermill": {
     "duration": 0.005599,
     "end_time": "2022-08-21T15:00:00.785828",
     "exception": false,
     "start_time": "2022-08-21T15:00:00.780229",
     "status": "completed"
    },
    "tags": []
   },
   "source": [
    "## Data Visualisation\n"
   ]
  },
  {
   "cell_type": "code",
   "execution_count": 9,
   "id": "393abde8",
   "metadata": {
    "execution": {
     "iopub.execute_input": "2022-08-21T15:00:00.802372Z",
     "iopub.status.busy": "2022-08-21T15:00:00.801035Z",
     "iopub.status.idle": "2022-08-21T15:00:01.140186Z",
     "shell.execute_reply": "2022-08-21T15:00:01.139006Z"
    },
    "papermill": {
     "duration": 0.351748,
     "end_time": "2022-08-21T15:00:01.142858",
     "exception": false,
     "start_time": "2022-08-21T15:00:00.791110",
     "status": "completed"
    },
    "tags": []
   },
   "outputs": [
    {
     "data": {
      "text/plain": [
       "<AxesSubplot:>"
      ]
     },
     "execution_count": 9,
     "metadata": {},
     "output_type": "execute_result"
    },
    {
     "data": {
      "image/png": "[encoded data removed]",
      "text/plain": [
       "<Figure size 432x288 with 2 Axes>"
      ]
     },
     "metadata": {
      "needs_background": "light"
     },
     "output_type": "display_data"
    }
   ],
   "source": [
    "sns.heatmap(train.corr())"
   ]
  },
  {
   "cell_type": "code",
   "execution_count": 10,
   "id": "a389d7a4",
   "metadata": {
    "execution": {
     "iopub.execute_input": "2022-08-21T15:00:01.156889Z",
     "iopub.status.busy": "2022-08-21T15:00:01.156475Z",
     "iopub.status.idle": "2022-08-21T15:00:01.415192Z",
     "shell.execute_reply": "2022-08-21T15:00:01.414006Z"
    },
    "papermill": {
     "duration": 0.268803,
     "end_time": "2022-08-21T15:00:01.417745",
     "exception": false,
     "start_time": "2022-08-21T15:00:01.148942",
     "status": "completed"
    },
    "tags": []
   },
   "outputs": [
    {
     "name": "stderr",
     "output_type": "stream",
     "text": [
      "/opt/conda/lib/python3.7/site-packages/seaborn/distributions.py:2619: FutureWarning: `distplot` is a deprecated function and will be removed in a future version. Please adapt your code to use either `displot` (a figure-level function with similar flexibility) or `histplot` (an axes-level function for histograms).\n",
      "  warnings.warn(msg, FutureWarning)\n"
     ]
    },
    {
     "data": {
      "text/plain": [
       "<AxesSubplot:xlabel='Yearly Median Salary (USD)'>"
      ]
     },
     "execution_count": 10,
     "metadata": {},
     "output_type": "execute_result"
    },
    {
     "data": {
      "image/png": "[encoded data removed]",
      "text/plain": [
       "<Figure size 432x288 with 1 Axes>"
      ]
     },
     "metadata": {},
     "output_type": "display_data"
    }
   ],
   "source": [
    "sns.set_style('whitegrid')\n",
    "sns.distplot(train['Yearly Median Salary (USD)'],kde=False,color='darkred',bins=30)"
   ]
  },
  {
   "cell_type": "code",
   "execution_count": 11,
   "id": "aceea42d",
   "metadata": {
    "execution": {
     "iopub.execute_input": "2022-08-21T15:00:01.433010Z",
     "iopub.status.busy": "2022-08-21T15:00:01.432564Z",
     "iopub.status.idle": "2022-08-21T15:00:03.312989Z",
     "shell.execute_reply": "2022-08-21T15:00:03.311863Z"
    },
    "papermill": {
     "duration": 1.891578,
     "end_time": "2022-08-21T15:00:03.315981",
     "exception": false,
     "start_time": "2022-08-21T15:00:01.424403",
     "status": "completed"
    },
    "tags": []
   },
   "outputs": [
    {
     "data": {
      "text/plain": [
       "<AxesSubplot:xlabel='Education', ylabel='Yearly Median Salary (USD)'>"
      ]
     },
     "execution_count": 11,
     "metadata": {},
     "output_type": "execute_result"
    },
    {
     "data": {
      "image/png": "[encoded data removed]",
      "text/plain": [
       "<Figure size 1116x540 with 1 Axes>"
      ]
     },
     "metadata": {},
     "output_type": "display_data"
    }
   ],
   "source": [
    "plt.rcParams[\"figure.figsize\"] = [15.50, 7.50]\n",
    "sns.boxplot(x='Education',y=\"Yearly Median Salary (USD)\",hue='Year',data=train,palette='RdBu_r')"
   ]
  }
 ],
 "metadata": {
  "kernelspec": {
   "display_name": "Python 3",
   "language": "python",
   "name": "python3"
  },
  "language_info": {
   "codemirror_mode": {
    "name": "ipython",
    "version": 3
   },
   "file_extension": ".py",
   "mimetype": "text/x-python",
   "name": "python",
   "nbconvert_exporter": "python",
   "pygments_lexer": "ipython3",
   "version": "3.7.12"
  },
  "papermill": {
   "default_parameters": {},
   "duration": 14.062931,
   "end_time": "2022-08-21T15:00:04.044837",
   "environment_variables": {},
   "exception": null,
   "input_path": "__notebook__.ipynb",
   "output_path": "__notebook__.ipynb",
   "parameters": {},
   "start_time": "2022-08-21T14:59:49.981906",
   "version": "2.3.4"
  }
 },
 "nbformat": 4,
 "nbformat_minor": 5
}
